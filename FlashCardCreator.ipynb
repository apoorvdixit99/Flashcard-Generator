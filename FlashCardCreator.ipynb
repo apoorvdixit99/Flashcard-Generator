{
  "nbformat": 4,
  "nbformat_minor": 0,
  "metadata": {
    "colab": {
      "name": "FlashCardCreator.ipynb",
      "provenance": []
    },
    "kernelspec": {
      "name": "python3",
      "display_name": "Python 3"
    }
  },
  "cells": [
    {
      "cell_type": "code",
      "metadata": {
        "id": "eyznfp1afAFh",
        "colab_type": "code",
        "colab": {}
      },
      "source": [
        "!pip install img2pdf"
      ],
      "execution_count": 0,
      "outputs": []
    },
    {
      "cell_type": "code",
      "metadata": {
        "id": "pKI0sTVTEl8c",
        "colab_type": "code",
        "colab": {}
      },
      "source": [
        "from PIL import Image, ImageDraw, ImageFont\n",
        "import math\n",
        "import os\n",
        "import img2pdf\n",
        "from IPython.display import Image as IPI"
      ],
      "execution_count": 0,
      "outputs": []
    },
    {
      "cell_type": "code",
      "metadata": {
        "id": "gaBI3OQHoCG5",
        "colab_type": "code",
        "colab": {}
      },
      "source": [
        "# Frontside of the flashcard\n",
        "questions = ['aaa','bbb','ccc','ddd','eee',\n",
        "             'fff','ggg','hhh','iii','jjj',\n",
        "             'kkk','lll','mmm','nnn','ooo',\n",
        "             'ppp','qqq','rrr','sss','ttt',\n",
        "             'uuu','vvv','www','xxx','yyy',\n",
        "             'zzz']\n",
        "\n",
        "# Backside of the flashcard\n",
        "answers =   ['A','B','C','D','E',\n",
        "             'F','G','H','I','J',\n",
        "             'K','L','M','N','O',\n",
        "             'P','Q','R','S','T',\n",
        "             'U','V','W','X','Y',\n",
        "             'Z']\n",
        "\n",
        "DATACOUNT = len(questions)"
      ],
      "execution_count": 0,
      "outputs": []
    },
    {
      "cell_type": "code",
      "metadata": {
        "colab_type": "code",
        "id": "vudcGi0CoPG_",
        "colab": {}
      },
      "source": [
        "# A4 Size Paper\n",
        "IMAGE_HEIGHT = 620\n",
        "IMAGE_WIDTH = 877\n",
        "IMAGE_RESOLUTION = (IMAGE_WIDTH, IMAGE_HEIGHT)\n",
        "\n",
        "PAPER_COLOR = 'white'\n",
        "PAPER2_COLOR = 'white'\n",
        "TEXT_COLOR = 'black'\n",
        "LINE_COLOR = 'gray'\n",
        "\n",
        "ROWS = 6\n",
        "COLUMNS = 3\n",
        "\n",
        "DIGIT_COUNT = 5 # files will be saved as 00000.png, 00001.png,...\n",
        "FLASHCARD_FILENAME = 'flashcards.pdf'\n",
        "FILENAME_INDEX = 1\n",
        "\n",
        "# To iterate through Questions and Answers\n",
        "WORD_INDEX = 0\n",
        "\n",
        "while(WORD_INDEX != DATACOUNT):\n",
        "\n",
        "  #Front Side of the Page\n",
        "  image = Image.new('RGB', IMAGE_RESOLUTION, color = PAPER_COLOR)\n",
        "  \n",
        "  #Backside of the Page\n",
        "  image2 = Image.new('RGB', IMAGE_RESOLUTION, color = PAPER2_COLOR)\n",
        "\n",
        "  #Page number is the filename\n",
        "  #We are appending zeroes in the beginning\n",
        "  #Because for string values, when sorted in ascending order\n",
        "  #Treat 11.png as lesser than 2.png, which is wrong\n",
        "  FILENAME = str(FILENAME_INDEX).zfill(DIGIT_COUNT)+'.png'\n",
        "  FILENAME_INDEX+=1\n",
        "  FILENAME2 = str(FILENAME_INDEX).zfill(DIGIT_COUNT)+'.png'\n",
        "  FILENAME_INDEX+=1\n",
        "\n",
        "  for i in range(ROWS):\n",
        "    #Y coordinate are same for the two\n",
        "    y = math.floor( ((2*i + 1)/2) * IMAGE_HEIGHT/ROWS )\n",
        "\n",
        "    #To draw Horizontal Lines\n",
        "    hline_coor = [( 0 , math.floor(i*IMAGE_HEIGHT/ROWS) ),\n",
        "                        ( IMAGE_WIDTH-1 , math.floor(i* IMAGE_HEIGHT/ROWS ))]\n",
        "\n",
        "\n",
        "    for j in range(COLUMNS):\n",
        "\n",
        "      #X coordinates are different for Question and Answer\n",
        "      #So that the correct Answer gets printed on the backside of the Question\n",
        "      x = math.floor( ((2*j + 1)/2) * IMAGE_WIDTH/COLUMNS )\n",
        "      x2 = IMAGE_WIDTH - x\n",
        "      \n",
        "      word = ImageDraw.Draw(image)\n",
        "      word2 = ImageDraw.Draw(image2)\n",
        "\n",
        "      word.line(hline_coor, fill =LINE_COLOR, width = 1) \n",
        "      word2.line(hline_coor, fill =LINE_COLOR, width = 1) \n",
        "\n",
        "      #Vertical Lines\n",
        "      vline_coor = [( math.floor(j*IMAGE_WIDTH/COLUMNS),0 ),\n",
        "                        ( math.floor(j*IMAGE_WIDTH/COLUMNS),IMAGE_HEIGHT-1)]\n",
        "\n",
        "      word.line(vline_coor, fill =LINE_COLOR, width = 1) \n",
        "      word2.line(vline_coor, fill =LINE_COLOR, width = 1) \n",
        "\n",
        "      #Break the while loop if word count exceeds datacount\n",
        "      if WORD_INDEX == DATACOUNT:\n",
        "        image.save(FILENAME)\n",
        "        image2.save(FILENAME2)\n",
        "        break\n",
        "\n",
        "      #We add '\\0' to avoid garbage values being printed\n",
        "      msg = questions[WORD_INDEX]\n",
        "      msg = msg + '\\0'\n",
        "\n",
        "      msg2 = answers[WORD_INDEX]\n",
        "      msg2 = msg2 + '\\0'\n",
        "\n",
        "      WORD_INDEX = WORD_INDEX + 1\n",
        "\n",
        "      w, h = word.textsize(msg)\n",
        "      pos = (math.floor(x-w/2),math.floor(y-h/2))\n",
        "      word.text(pos, msg, fill=TEXT_COLOR)\n",
        "\n",
        "      w2, h2 = word.textsize(msg2)\n",
        "      pos2 = (math.floor(x2-w2/2),math.floor(y-h2/2))\n",
        "      word2.text(pos2, msg2, fill=TEXT_COLOR)\n",
        "\n",
        "\n",
        "    if WORD_INDEX == DATACOUNT:\n",
        "      image.save(FILENAME)\n",
        "      image2.save(FILENAME2)\n",
        "      break\n",
        "\n",
        "    image.save(FILENAME)\n",
        "    image2.save(FILENAME2)"
      ],
      "execution_count": 0,
      "outputs": []
    },
    {
      "cell_type": "code",
      "metadata": {
        "id": "VgReTfnuhpE2",
        "colab_type": "code",
        "colab": {}
      },
      "source": [
        "SCALE_FACTOR = 0.50\n",
        "IPI('00001.png', width = IMAGE_WIDTH*SCALE_FACTOR, height = IMAGE_HEIGHT*SCALE_FACTOR)\n"
      ],
      "execution_count": 0,
      "outputs": []
    },
    {
      "cell_type": "code",
      "metadata": {
        "id": "bfT_sBiwhp_Z",
        "colab_type": "code",
        "colab": {}
      },
      "source": [
        "SCALE_FACTOR = 0.50\n",
        "IPI('00002.png', width = IMAGE_WIDTH*SCALE_FACTOR, height = IMAGE_HEIGHT*SCALE_FACTOR)\n"
      ],
      "execution_count": 0,
      "outputs": []
    },
    {
      "cell_type": "code",
      "metadata": {
        "id": "ZZXNqPUhb-_q",
        "colab_type": "code",
        "colab": {}
      },
      "source": [
        "#Sort the Generated PNG Files\n",
        "\n",
        "pngfiles = [i for i in os.listdir('/content') \n",
        "        if i.endswith(\".png\")]\n",
        "\n",
        "pngfiles.sort()\n",
        "\n",
        "print(pngfiles)"
      ],
      "execution_count": 0,
      "outputs": []
    },
    {
      "cell_type": "code",
      "metadata": {
        "id": "y2lq0YwocoyL",
        "colab_type": "code",
        "colab": {}
      },
      "source": [
        "#generate the PDF\n",
        "\n",
        "with open(FLASHCARD_FILENAME, \"wb\") as f:\n",
        "    f.write(img2pdf.convert(pngfiles))"
      ],
      "execution_count": 0,
      "outputs": []
    },
    {
      "cell_type": "code",
      "metadata": {
        "id": "fChHqS7ov0u9",
        "colab_type": "code",
        "colab": {}
      },
      "source": [
        "# Delete all the png files\n",
        "\n",
        "def deleteAllPNGFiles():\n",
        "  pngfiles = [i for i in os.listdir('/content') \n",
        "          if i.endswith(\".png\")]\n",
        "\n",
        "  for pngfile in pngfiles:\n",
        "    os.remove(pngfile)\n",
        "\n",
        "deleteAllPNGFiles()"
      ],
      "execution_count": 0,
      "outputs": []
    }
  ]
}